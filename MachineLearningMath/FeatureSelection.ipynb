{
 "cells": [
  {
   "cell_type": "code",
   "execution_count": 3,
   "metadata": {},
   "outputs": [
    {
     "name": "stdout",
     "output_type": "stream",
     "text": [
      "                            OLS Regression Results                            \n",
      "==============================================================================\n",
      "Dep. Variable:                  Sales   R-squared:                       1.000\n",
      "Model:                            OLS   Adj. R-squared:                    nan\n",
      "Method:                 Least Squares   F-statistic:                       nan\n",
      "Date:                Mon, 17 Feb 2025   Prob (F-statistic):                nan\n",
      "Time:                        15:50:44   Log-Likelihood:                 91.207\n",
      "No. Observations:                   3   AIC:                            -176.4\n",
      "Df Residuals:                       0   BIC:                            -179.1\n",
      "Df Model:                           2                                         \n",
      "Covariance Type:            nonrobust                                         \n",
      "===================================================================================\n",
      "                      coef    std err          t      P>|t|      [0.025      0.975]\n",
      "-----------------------------------------------------------------------------------\n",
      "const               0.0074        inf          0        nan         nan         nan\n",
      "TV Spend            0.0684        inf          0        nan         nan         nan\n",
      "Radio Spend         0.2191        inf          0        nan         nan         nan\n",
      "Newspaper Spend    -0.0280        inf         -0        nan         nan         nan\n",
      "==============================================================================\n",
      "Omnibus:                          nan   Durbin-Watson:                   0.243\n",
      "Prob(Omnibus):                    nan   Jarque-Bera (JB):                0.392\n",
      "Skew:                          -0.470   Prob(JB):                        0.822\n",
      "Kurtosis:                       1.500   Cond. No.                         33.5\n",
      "==============================================================================\n",
      "\n",
      "Notes:\n",
      "[1] Standard Errors assume that the covariance matrix of the errors is correctly specified.\n",
      "[2] The input rank is higher than the number of observations.\n",
      "                            OLS Regression Results                            \n",
      "==============================================================================\n",
      "Dep. Variable:                  Sales   R-squared:                       1.000\n",
      "Model:                            OLS   Adj. R-squared:                    nan\n",
      "Method:                 Least Squares   F-statistic:                       nan\n",
      "Date:                Mon, 17 Feb 2025   Prob (F-statistic):                nan\n",
      "Time:                        15:50:44   Log-Likelihood:                 95.988\n",
      "No. Observations:                   3   AIC:                            -186.0\n",
      "Df Residuals:                       0   BIC:                            -188.7\n",
      "Df Model:                           2                                         \n",
      "Covariance Type:            nonrobust                                         \n",
      "===============================================================================\n",
      "                  coef    std err          t      P>|t|      [0.025      0.975]\n",
      "-------------------------------------------------------------------------------\n",
      "const           3.7344        inf          0        nan         nan         nan\n",
      "TV Spend        0.0638        inf          0        nan         nan         nan\n",
      "Radio Spend     0.0973        inf          0        nan         nan         nan\n",
      "==============================================================================\n",
      "Omnibus:                          nan   Durbin-Watson:                   2.000\n",
      "Prob(Omnibus):                    nan   Jarque-Bera (JB):                0.531\n",
      "Skew:                          -0.707   Prob(JB):                        0.767\n",
      "Kurtosis:                       1.500   Cond. No.                     2.52e+03\n",
      "==============================================================================\n",
      "\n",
      "Notes:\n",
      "[1] Standard Errors assume that the covariance matrix of the errors is correctly specified.\n",
      "[2] The condition number is large, 2.52e+03. This might indicate that there are\n",
      "strong multicollinearity or other numerical problems.\n"
     ]
    },
    {
     "name": "stderr",
     "output_type": "stream",
     "text": [
      "c:\\Users\\jayan\\AppData\\Local\\Programs\\Python\\Python312\\Lib\\site-packages\\statsmodels\\stats\\stattools.py:74: ValueWarning: omni_normtest is not valid with less than 8 observations; 3 samples were given.\n",
      "  warn(\"omni_normtest is not valid with less than 8 observations; %i \"\n",
      "c:\\Users\\jayan\\AppData\\Local\\Programs\\Python\\Python312\\Lib\\site-packages\\statsmodels\\regression\\linear_model.py:1795: RuntimeWarning: divide by zero encountered in divide\n",
      "  return 1 - (np.divide(self.nobs - self.k_constant, self.df_resid)\n",
      "c:\\Users\\jayan\\AppData\\Local\\Programs\\Python\\Python312\\Lib\\site-packages\\statsmodels\\regression\\linear_model.py:1795: RuntimeWarning: invalid value encountered in scalar multiply\n",
      "  return 1 - (np.divide(self.nobs - self.k_constant, self.df_resid)\n",
      "c:\\Users\\jayan\\AppData\\Local\\Programs\\Python\\Python312\\Lib\\site-packages\\statsmodels\\regression\\linear_model.py:1717: RuntimeWarning: divide by zero encountered in scalar divide\n",
      "  return np.dot(wresid, wresid) / self.df_resid\n",
      "c:\\Users\\jayan\\AppData\\Local\\Programs\\Python\\Python312\\Lib\\site-packages\\statsmodels\\stats\\stattools.py:74: ValueWarning: omni_normtest is not valid with less than 8 observations; 3 samples were given.\n",
      "  warn(\"omni_normtest is not valid with less than 8 observations; %i \"\n",
      "c:\\Users\\jayan\\AppData\\Local\\Programs\\Python\\Python312\\Lib\\site-packages\\statsmodels\\regression\\linear_model.py:1795: RuntimeWarning: divide by zero encountered in divide\n",
      "  return 1 - (np.divide(self.nobs - self.k_constant, self.df_resid)\n",
      "c:\\Users\\jayan\\AppData\\Local\\Programs\\Python\\Python312\\Lib\\site-packages\\statsmodels\\regression\\linear_model.py:1795: RuntimeWarning: invalid value encountered in scalar multiply\n",
      "  return 1 - (np.divide(self.nobs - self.k_constant, self.df_resid)\n",
      "c:\\Users\\jayan\\AppData\\Local\\Programs\\Python\\Python312\\Lib\\site-packages\\statsmodels\\regression\\linear_model.py:1717: RuntimeWarning: divide by zero encountered in scalar divide\n",
      "  return np.dot(wresid, wresid) / self.df_resid\n"
     ]
    }
   ],
   "source": [
    "#Feature Selection\n",
    "import statsmodels.api as sm # type: ignore\n",
    "\n",
    "# Assuming X and y are defined as follows:\n",
    "# X is your feature matrix and y is your target vector\n",
    "# Replace the following lines with your actual data\n",
    "import pandas as pd\n",
    "data = pd.DataFrame({\n",
    "\t'TV Spend': [230.1, 44.5, 17.2],\n",
    "\t'Radio Spend': [37.8, 39.3, 45.9],\n",
    "\t'Newspaper Spend': [69.2, 45.1, 69.3],\n",
    "\t'Sales': [22.1, 10.4, 9.3]\n",
    "})\n",
    "X = data[['TV Spend', 'Radio Spend', 'Newspaper Spend']]\n",
    "y = data['Sales']\n",
    "\n",
    "X = sm.add_constant(X)\n",
    "model = sm.OLS(y, X).fit()\n",
    "print (model.summary())\n",
    "\n",
    "#check p-values and remove the features with p-value > 0.05\n",
    "X = X.drop(columns= ['Newspaper Spend'])\n",
    "model = sm.OLS(y, X).fit()\n",
    "print (model.summary())"
   ]
  },
  {
   "cell_type": "code",
   "execution_count": 4,
   "metadata": {},
   "outputs": [
    {
     "name": "stdout",
     "output_type": "stream",
     "text": [
      "Removing const as p_value is 1.0\n"
     ]
    }
   ],
   "source": [
    "from sklearn.feature_selection import f_regression\n",
    "\n",
    "remaining_features = X.columns.tolist()\n",
    "selected_features = []\n",
    "p_values_threshold = 0.05\n",
    "\n",
    "while remaining_features:\n",
    "    p_values = f_regression(X[selected_features + remaining_features], y)[1]    \n",
    "    best_feature = remaining_features.pop(0)\n",
    "    if p_values[0] < p_values_threshold:\n",
    "        selected_features.append(best_feature)\n",
    "    else:\n",
    "        print(f'Removing {best_feature} as p_value is {p_values[0]}')"
   ]
  },
  {
   "cell_type": "code",
   "execution_count": 7,
   "metadata": {},
   "outputs": [],
   "source": [
    "#Using Model Coefficients\n",
    "from sklearn.linear_model import LinearRegression\n",
    "\n",
    "model = LinearRegression()\n",
    "model.fit(X,y)\n",
    "coefs = pd.Series(model.coef_,index=X.columns)\n",
    "significant_features = coefs.abs().sort_values(ascending=False).index.tolist()\n",
    "X_significant = X[significant_features]"
   ]
  },
  {
   "cell_type": "code",
   "execution_count": 8,
   "metadata": {},
   "outputs": [
    {
     "name": "stdout",
     "output_type": "stream",
     "text": [
      "[0.0973387  0.06382547 0.        ]\n",
      "3.734355284161456\n",
      "1.0\n"
     ]
    }
   ],
   "source": [
    "# Train the model using only significant features\n",
    "model.fit(X_significant, y)\n",
    "print(model.coef_)\n",
    "print(model.intercept_)\n",
    "print(model.score(X_significant, y))\n"
   ]
  },
  {
   "cell_type": "code",
   "execution_count": null,
   "metadata": {},
   "outputs": [],
   "source": []
  }
 ],
 "metadata": {
  "kernelspec": {
   "display_name": "Python 3",
   "language": "python",
   "name": "python3"
  },
  "language_info": {
   "codemirror_mode": {
    "name": "ipython",
    "version": 3
   },
   "file_extension": ".py",
   "mimetype": "text/x-python",
   "name": "python",
   "nbconvert_exporter": "python",
   "pygments_lexer": "ipython3",
   "version": "3.12.4"
  }
 },
 "nbformat": 4,
 "nbformat_minor": 2
}
